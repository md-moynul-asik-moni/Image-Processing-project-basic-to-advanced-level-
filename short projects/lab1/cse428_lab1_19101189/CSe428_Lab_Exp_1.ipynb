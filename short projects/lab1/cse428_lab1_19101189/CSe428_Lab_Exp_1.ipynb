{
  "nbformat": 4,
  "nbformat_minor": 0,
  "metadata": {
    "colab": {
      "provenance": []
    },
    "kernelspec": {
      "name": "python3",
      "display_name": "Python 3"
    },
    "language_info": {
      "name": "python"
    }
  },
  "cells": [
    {
      "cell_type": "markdown",
      "source": [
        "# Task 1"
      ],
      "metadata": {
        "id": "Oig3rqtleR6h"
      }
    },
    {
      "cell_type": "code",
      "source": [
        "import numpy as np\n",
        "import matplotlib.pyplot as plt\n",
        "from skimage import io, transform, img_as_float"
      ],
      "metadata": {
        "id": "gJVljSkYe3ep"
      },
      "execution_count": null,
      "outputs": []
    },
    {
      "cell_type": "code",
      "execution_count": null,
      "metadata": {
        "id": "J4dSeaS1eI3b"
      },
      "outputs": [],
      "source": [
        "# define a numpy array of length 10, put random values\n",
        "x = np.array([1, 6, 4, -2, 9, 12, 2, 4, 3])\n",
        "\n",
        "# select a slice with the even numbers\n",
        "x_even = None\n",
        "\n",
        "# select a slice with even indexed numbers\n",
        "x_even_idx = None\n",
        "\n",
        "# print the even indexed numbers in reverse order\n",
        "print(None)"
      ]
    },
    {
      "cell_type": "markdown",
      "source": [
        "# Task 2"
      ],
      "metadata": {
        "id": "hWGdLwi-hT2s"
      }
    },
    {
      "cell_type": "code",
      "source": [
        "x = np.array([[1, 2, 3, 4, 5], [0, 1, 2, 3, 4], [-1, 2, 5, 1 , 0]])\n",
        "\n",
        "# print the submatrix with even indexed rows and odd indexed columns\n",
        "# should print [[2, 4], [2, 1]]\n",
        "print(None)\n",
        "\n",
        "# flip the matrix by 180 degree\n",
        "# should print [[0, 1, 5, 2, -1], [4, 3, 2, 1, 0], [5, 4, 3, 2, 1]]\n",
        "print(None)"
      ],
      "metadata": {
        "id": "CLsX0Z01hSfz",
        "colab": {
          "base_uri": "https://localhost:8080/"
        },
        "outputId": "23c2449f-770e-4293-873b-a8949fd387bf"
      },
      "execution_count": null,
      "outputs": [
        {
          "output_type": "stream",
          "name": "stdout",
          "text": [
            "None\n",
            "[[ 0  1  5  2 -1]\n",
            " [ 4  3  2  1  0]\n",
            " [ 5  4  3  2  1]]\n",
            "None\n"
          ]
        }
      ]
    },
    {
      "cell_type": "markdown",
      "source": [
        "# Task 3"
      ],
      "metadata": {
        "id": "W2q24DwPiMuu"
      }
    },
    {
      "cell_type": "code",
      "source": [
        "# import the cat image\n",
        "I = None\n",
        "\n",
        "# normalize the image between 0 and 1\n",
        "I_norm = None\n",
        "\n",
        "# crop only the cat's face and imshow it\n",
        "I_cropped = None"
      ],
      "metadata": {
        "id": "ROzjAtrViMYN"
      },
      "execution_count": null,
      "outputs": []
    }
  ]
}